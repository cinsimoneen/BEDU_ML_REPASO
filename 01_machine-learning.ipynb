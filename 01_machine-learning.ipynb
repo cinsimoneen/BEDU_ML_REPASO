{
 "cells": [
  {
   "cell_type": "markdown",
   "metadata": {},
   "source": [
    "Machine Learning :Subcampo de la ciencia de la computación, que otorga a las computadoras la capacidad de aprender sin ser explicitamente programadas. Las computadoras aprender por si mismas a través de la experiencia que les permite anticiparse."
   ]
  },
  {
   "cell_type": "markdown",
   "metadata": {},
   "source": [
    "Aprendizaje supervisado- Entrenamos en base a datos de entrada para obtener datos de salida\n",
    "Aprendizaje no supervisado\n",
    "Aprendizaje de reforzamiento"
   ]
  },
  {
   "cell_type": "code",
   "execution_count": null,
   "metadata": {
    "vscode": {
     "languageId": "plaintext"
    }
   },
   "outputs": [],
   "source": [
    "#Regresión Lineal"
   ]
  }
 ],
 "metadata": {
  "language_info": {
   "name": "python"
  }
 },
 "nbformat": 4,
 "nbformat_minor": 2
}
